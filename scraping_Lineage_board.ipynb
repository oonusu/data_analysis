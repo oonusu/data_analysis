{
  "nbformat": 4,
  "nbformat_minor": 0,
  "metadata": {
    "colab": {
      "provenance": [],
      "collapsed_sections": [],
      "authorship_tag": "ABX9TyNyOkihfZjDHCh79qcewDM+",
      "include_colab_link": true
    },
    "kernelspec": {
      "name": "python3",
      "display_name": "Python 3"
    },
    "language_info": {
      "name": "python"
    }
  },
  "cells": [
    {
      "cell_type": "markdown",
      "metadata": {
        "id": "view-in-github",
        "colab_type": "text"
      },
      "source": [
        "<a href=\"https://colab.research.google.com/github/oonusu/data_analysis/blob/master/scraping_Lineage_board.ipynb\" target=\"_parent\"><img src=\"https://colab.research.google.com/assets/colab-badge.svg\" alt=\"Open In Colab\"/></a>"
      ]
    },
    {
      "cell_type": "code",
      "execution_count": null,
      "metadata": {
        "id": "qihiUVxxKSA_"
      },
      "outputs": [],
      "source": [
        "import requests\n",
        "from bs4 import BeautifulSoup"
      ]
    },
    {
      "cell_type": "code",
      "source": [
        "url = \"https://api-community.plaync.com/lineage1/board/free/article/search/moreArticle?query=&searchType=&summary=false&isVote=true&moreSize=18&previousArticleId=0&categoryId=&guid=&gameUserUid=&gameCharacterId=&gameServerId=&gameServerType=&metaTags=&_=1660988307603\"\n",
        "resp = requests.get(url)\n",
        "resp.status_code"
      ],
      "metadata": {
        "colab": {
          "base_uri": "https://localhost:8080/"
        },
        "id": "9rU30EiSKfhB",
        "outputId": "20182f06-f251-4648-a12d-08206022f9da"
      },
      "execution_count": null,
      "outputs": [
        {
          "output_type": "execute_result",
          "data": {
            "text/plain": [
              "200"
            ]
          },
          "metadata": {},
          "execution_count": 9
        }
      ]
    },
    {
      "cell_type": "code",
      "source": [
        "resp.json()"
      ],
      "metadata": {
        "id": "P3Qt3nwgKwgV"
      },
      "execution_count": null,
      "outputs": []
    },
    {
      "cell_type": "code",
      "source": [
        "posts = []\n",
        "for list_elem in resp.json()['contentList']:\n",
        "    posts.append({\n",
        "        'title': list_elem['title'],\n",
        "        'summary': list_elem['summary'],\n",
        "        'author': list_elem['writer']['gameUser']['gameCharacterName']\n",
        "        })\n",
        "posts"
      ],
      "metadata": {
        "colab": {
          "base_uri": "https://localhost:8080/"
        },
        "id": "wLf8TXS6nRWW",
        "outputId": "05149dc7-0250-40c7-9796-2114bdba8634"
      },
      "execution_count": null,
      "outputs": [
        {
          "output_type": "execute_result",
          "data": {
            "text/plain": [
              "[{'title': '크롬에서 왜 홈피 접속 안돼요?????',\n",
              "  'summary': '엣지로는 접속 되는데 크롬에서는 안됨',\n",
              "  'author': 'Supercell'},\n",
              " {'title': '펫 업뎃 해줘요~~~!!!! &lt; 생각나면 1글 시위 &gt;',\n",
              "  'summary': '빠른 시일내? 빠른 시일내???? 빠른????? 어???? 빠른?!!!!!! 어~~!!!!!!!!! 하......',\n",
              "  'author': '꼬꼬빤쮸'},\n",
              " {'title': '걍 5펜던 , 각인 5펜던트 합체 ',\n",
              "  'summary': '합체하게 부탁!합쳐서 각인이 되더라도...',\n",
              "  'author': '사신그림리퍼'},\n",
              " {'title': '돈을 써야 스트레스 수치가 주는거야~',\n",
              "  'summary': '형들~ 돈 쓰고 스트레스 줄이든가돈 안쓰고 스트레스 왕창 받든가결국 내돈쓰고도 스트레스 받겠지만~엔씨 브럴것들 오직 돈 돈 돈이제 그만 놔주고 주식 떨어지는거나 구경해 더 꿀잼',\n",
              "  'author': '스턴땅콩'},\n",
              " {'title': '&lt;외형코스튬&gt; 이 출시됐으면 합니다.',\n",
              "  'summary': '예전 리니지의 꽃은 데스변신 이었죠.저도. 스무살시절에 데스한번 찍어보겠다고.친구들과 겜방에서 밤샌적도 있지만.아크변신이 출시됐을때.불타는검과 어깨뽕. 형광색반짝거림이.변신은 정점을 찍었다고 생각합니다.반지로 하는 지배변신은 극히 소수만이할수있고 다른유저들은. 엄두도 못내는.희귀변신도 있지만.개인적으로 타게임들이 적용하고있는.코스튬을 출시해보는것도. 괜찮을',\n",
              "  'author': '전투환술'},\n",
              " {'title': '혈맹 집결지 아지트는 소유햇습니다 다만 지하아지트없는...답변좀',\n",
              "  'summary': '혈맹 집결지 아지트는 소유했습니다 ..다만 지하 아지트는...없습니다 ...지상에서 집결지가 가능합니까? 지존 여러분 답변 주세요',\n",
              "  'author': '짝사랑'},\n",
              " {'title': '격수 에볼이  불법이냐?', 'summary': 'ㅉㅉㅉ', 'author': '레버네버'},\n",
              " {'title': '역시 접어야겠네요.',\n",
              "  'summary': '혹시나 해서 접속해 플레이해보니 이건뭐 답도없네요. 캐쉬질이아 선택사항이니 안하면 고만이지만 게임자체가 경험치도 팔아먹으면서 막피에 대한 대안이 없네요.자동을 돌리면 맨날 죽어있고 옛날에는 진짜 재밌었던 게임이었는데 지금은 최악의 게임이 되어버렸네요.안타깝습니다. 내 인생 최악 &quot;도박의 정점&quot; 카지노게임 리니지여 안녕~',\n",
              "  'author': '흥칫뿡'},\n",
              " {'title': '요정', 'summary': '이대로 ᆢ좋은가 ??', 'author': '로린'},\n",
              " {'title': '아인하사드 씌크 생얼', 'summary': '씌크', 'author': '씌크'},\n",
              " {'title': '발숨뽑기 이벤 어느정도 돈들어가면 자동 제작멘트뜸',\n",
              "  'summary': '현실은 뽑은사람은 아예 없다는거 완전 자동눈속임입니다',\n",
              "  'author': '내가신이다'},\n",
              " {'title': '거래소 수준 ... 대기업 맞음??',\n",
              "  'summary': '월드 거래소 나와서 대충 한번봤더니 1.아이템 필터는 정확히 입력해야 나옴(줄임말 X)2.아이템 정보 창 안뜸(언제적 편의 기능인데 대기업이 중소보다 못함)시버 무슨 자율 운전 시대에 소프트웨어가 주 사업아님?NC놈들 그냥 앉아서 월급 루팡들만 모였겠구만',\n",
              "  'author': '파크리오'},\n",
              " {'title': '에볼사냥 은 비매너인가?  에 관한 &lt;답변&gt;',\n",
              "  'summary': '원거리 사냥이 기능한 캐릭터는원초적으로 요정뿐이었음.옛날 리니지 시절을 생각해보면.예를 들어,화면 끝에 있는 오크를 때리러 용촐빨고 걸어가는 기사뒤에서.활로. 먼저 오크를 잡는 요정을 본 상황이라면?기사인. 당신은 요정을 때린다? 안때린다?이건. 모니터를 거의 안하는. pss시대를 살고있는 여러분에게는.아주 단순한 문제이지만.옛날 수동사',\n",
              "  'author': '전투환술'},\n",
              " {'title': '총사 만들자', 'summary': '총도 쏘고 전설스킬 수류탄 던지고 ㅇㅇ?', 'author': '스턴땅콩'},\n",
              " {'title': '이제 에볼사냥 비매너라 하면 안되는시대!',\n",
              "  'summary': '몹치려고 걸어가면, 활요정 보이지도 않는데 화살 날라오고, 창기사 멀리서 창 던지고, 이젠 환술사까지 이상한거 던져버리네. 내 캐릭은 열심히 걸어갔다가 텔만 타는군 \\\\./ 택진이형 기사도 멀리서 단검 던지게 해주십쇼(굽신 굽신)',\n",
              "  'author': '판윤'},\n",
              " {'title': 'TJ쿠폰 이벤트 합시다',\n",
              "  'summary': 'TJ 쿠폰 이벤트 좀 합시다악세사리 다 날라서 하기 힘드내',\n",
              "  'author': '미친곽'},\n",
              " {'title': '건전님 답변점요.',\n",
              "  'summary': '건전님 안녕하세요.법사 캐릭 운전중입니다.중립, 저자본은 법사해야한다는건전님 옛날 글 읽어보긴 했습니다만..법사에 재미를 잘 못느끼겠어서요. (어큐, 매스이뮨, 세인트 이뮨 배움)환술 리부터하면서 저자본 유저는 환술로 가라고 글 올리셨던데.. 리부트 전부터 전사로 클체하려했거든요. (환술도 아직 고려중이긴 하나.. 마법[다크호스] 및 장비 매물이',\n",
              "  'author': '뿜가너'},\n",
              " {'title': '다 좋은데 환술 클체 할거면....',\n",
              "  'summary': '다크호스부터 구하고 신청하시길.....클체 하시는거는 개인 마음이나... 다크호스도 없이 생 촐기발 칼질에 3단 해봐야 용기속도도 안나오는거옆에서 보면 안스럽다는.....',\n",
              "  'author': '바람승부사'}]"
            ]
          },
          "metadata": {},
          "execution_count": 34
        }
      ]
    },
    {
      "cell_type": "code",
      "source": [],
      "metadata": {
        "id": "FFziYSGbrZND"
      },
      "execution_count": null,
      "outputs": []
    }
  ]
}