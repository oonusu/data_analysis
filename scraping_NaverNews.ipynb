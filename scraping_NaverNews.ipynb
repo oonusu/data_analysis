{
  "nbformat": 4,
  "nbformat_minor": 0,
  "metadata": {
    "colab": {
      "provenance": [],
      "authorship_tag": "ABX9TyOFeEjZXgN5OLvjb6OHg8Qc",
      "include_colab_link": true
    },
    "kernelspec": {
      "name": "python3",
      "display_name": "Python 3"
    },
    "language_info": {
      "name": "python"
    }
  },
  "cells": [
    {
      "cell_type": "markdown",
      "metadata": {
        "id": "view-in-github",
        "colab_type": "text"
      },
      "source": [
        "<a href=\"https://colab.research.google.com/github/oonusu/data_analysis/blob/master/scraping_NaverNews.ipynb\" target=\"_parent\"><img src=\"https://colab.research.google.com/assets/colab-badge.svg\" alt=\"Open In Colab\"/></a>"
      ]
    },
    {
      "cell_type": "code",
      "execution_count": null,
      "metadata": {
        "id": "QqTFgOpG502T"
      },
      "outputs": [],
      "source": [
        "import requests\n",
        "from bs4 import BeautifulSoup"
      ]
    },
    {
      "cell_type": "code",
      "source": [
        "url = \"https://news.naver.com/main/main.naver?mode=LSD&mid=shm&sid1=105\"\n",
        "\n",
        "headers = {\n",
        "    \"user-agent\" : \"Mozilla/5.0 (Macintosh; Intel Mac OS X 10_15_7) AppleWebKit/537.36 (KHTML, like Gecko) Chrome/103.0.0.0 Safari/537.36\"\n",
        "}"
      ],
      "metadata": {
        "id": "UMsPK-xd8mH2"
      },
      "execution_count": null,
      "outputs": []
    },
    {
      "cell_type": "code",
      "source": [
        "resp = requests.get(url, headers=headers)\n",
        "resp.status_code"
      ],
      "metadata": {
        "colab": {
          "base_uri": "https://localhost:8080/"
        },
        "id": "ODXVW0j_80Eu",
        "outputId": "c3ecfcb5-513d-4ec4-ba1c-037980b382b5"
      },
      "execution_count": null,
      "outputs": [
        {
          "output_type": "execute_result",
          "data": {
            "text/plain": [
              "200"
            ]
          },
          "metadata": {},
          "execution_count": 17
        }
      ]
    },
    {
      "cell_type": "code",
      "source": [
        "my_soup = BeautifulSoup(resp.text, 'html.parser')"
      ],
      "metadata": {
        "id": "hGPIuMMV9aKo"
      },
      "execution_count": null,
      "outputs": []
    },
    {
      "cell_type": "code",
      "source": [
        "# find all: ul class=\"cluster_list\"\n",
        "# find all: li class=\"cluster_item\"\n",
        "\n",
        "\n",
        "    \n",
        "listElems = my_soup.find_all('ul', {'class':'cluster_list'})\n",
        "len(listElems)"
      ],
      "metadata": {
        "colab": {
          "base_uri": "https://localhost:8080/"
        },
        "id": "rvaDq7WR9nGy",
        "outputId": "8cb169e4-3f82-4249-d806-35ace13c6553"
      },
      "execution_count": null,
      "outputs": [
        {
          "output_type": "execute_result",
          "data": {
            "text/plain": [
              "10"
            ]
          },
          "metadata": {},
          "execution_count": 19
        }
      ]
    },
    {
      "cell_type": "code",
      "source": [
        "articles = []\n",
        "for listElem in listElems: # 리스트에서 요소를 각각 뽑아와서 해야된다.\n",
        "    itemElems = listElem.find_all('li', {'class': 'cluster_item'})\n",
        "    for itemElem in itemElems:\n",
        "        articleElem = itemElem.find('div', {\"class\": \"cluster_text\"})\n",
        "        title = articleElem.find('a').get_text().strip()\n",
        "        article_url = articleElem.find('a')['href']\n",
        "        articles.append({\n",
        "            'title': title,\n",
        "            'article_url': article_url\n",
        "        })\n",
        "articles"
      ],
      "metadata": {
        "colab": {
          "base_uri": "https://localhost:8080/"
        },
        "id": "SHfrGeWQ-P5p",
        "outputId": "654957e1-86b3-49a8-d78e-1a0cdcd2e2f6"
      },
      "execution_count": null,
      "outputs": [
        {
          "output_type": "execute_result",
          "data": {
            "text/plain": [
              "[{'title': \"볼수록 매력있네…컴투스 신작 '서머너즈 워: 크로니클'[잇써보니]\",\n",
              "  'article_url': 'https://n.news.naver.com/mnews/article/011/0004089591?sid=105'},\n",
              " {'title': '서머너즈 워:크로니클, 애플이어 구글 플레이 인기 게임 1위 등극',\n",
              "  'article_url': 'https://n.news.naver.com/mnews/article/030/0003038035?sid=105'},\n",
              " {'title': \"형만한 아우될까 '서머너즈워 크로니클'[겜별사]\",\n",
              "  'article_url': 'https://n.news.naver.com/mnews/article/031/0000692816?sid=105'},\n",
              " {'title': \"컴투스 '서머너즈 워: 크로니클', 구글 인기 1위 기록\",\n",
              "  'article_url': 'https://n.news.naver.com/mnews/article/003/0011372851?sid=105'},\n",
              " {'title': \"카카오, '알짜' 카카오모빌리티 매각 대신 '사회적 책임' 택했다\",\n",
              "  'article_url': 'https://n.news.naver.com/mnews/article/421/0006285931?sid=105'},\n",
              " {'title': \"카카오모빌리티 매각 작업 '급브레이크'…향후 시나리오는?\",\n",
              "  'article_url': 'https://n.news.naver.com/mnews/article/018/0005297038?sid=105'},\n",
              " {'title': '카카오, 카카오모빌리티 지분 결국 안 판다',\n",
              "  'article_url': 'https://n.news.naver.com/mnews/article/005/0001547420?sid=105'},\n",
              " {'title': \"'문어발 확장' 비판받던 카카오…상생 또 상생\",\n",
              "  'article_url': 'https://n.news.naver.com/mnews/article/277/0005135311?sid=105'},\n",
              " {'title': '“너무 이쁘긴 한데, 150만원에 누가 사?” 삼성 한정판, 어쩌다 굴욕',\n",
              "  'article_url': 'https://n.news.naver.com/mnews/article/016/0002030672?sid=105'},\n",
              " {'title': \"삼성, 갤Z폴드4도 일부 국가서 'Z' 삭제…러시아선 판매 안해\",\n",
              "  'article_url': 'https://n.news.naver.com/mnews/article/008/0004785106?sid=105'},\n",
              " {'title': '네이버, 스마트빌딩 내 개인정보 노출 막는다',\n",
              "  'article_url': 'https://n.news.naver.com/mnews/article/119/0002631810?sid=105'},\n",
              " {'title': '스마트빌딩 내 로봇 택배·안면인식 인증으로 노출되는 개인정보처리 어떻게?',\n",
              "  'article_url': 'https://n.news.naver.com/mnews/article/081/0003295637?sid=105'},\n",
              " {'title': \"'슈퍼컴퓨터 6호기 구축' 등 과기정통부 예타조사 통과\",\n",
              "  'article_url': 'https://n.news.naver.com/mnews/article/001/0013386331?sid=105'},\n",
              " {'title': '정부, 3000억 규모 슈퍼컴 구축한다…예타 통과',\n",
              "  'article_url': 'https://n.news.naver.com/mnews/article/011/0004089501?sid=105'},\n",
              " {'title': \"OTT 시청 중간에 광고를 봐야 한다면...'광고형 요금제' 뜨거운 감자 되나\",\n",
              "  'article_url': 'https://n.news.naver.com/mnews/article/469/0000692541?sid=105'},\n",
              " {'title': \"SKT 필두로 KT·LG유플러스도 줄줄이 '5G 중간요금제' 출시\",\n",
              "  'article_url': 'https://n.news.naver.com/mnews/article/417/0000844553?sid=105'},\n",
              " {'title': '앞으로 또 10년은[KT민영화20주년]',\n",
              "  'article_url': 'https://n.news.naver.com/mnews/article/277/0005134968?sid=105'},\n",
              " {'title': \"탈통신 속도…'디지코’ 새옷 갈아입다[KT, 민영화 20년②]\",\n",
              "  'article_url': 'https://n.news.naver.com/mnews/article/003/0011373794?sid=105'},\n",
              " {'title': '‘우영우’ 마지막회 시청율 17.5%로 유종의 미…KT 콘텐츠 사업 기대감↑',\n",
              "  'article_url': 'https://n.news.naver.com/mnews/article/138/0002131065?sid=105'},\n",
              " {'title': '유종의 미 거둔 ‘우영우’로 KT 콘텐츠 사업 입증…통신사-OTT 합종연횡 속도↑',\n",
              "  'article_url': 'https://n.news.naver.com/mnews/article/081/0003295747?sid=105'},\n",
              " {'title': '[D데이] 2002.8.20. 국민기업 KT 민영화',\n",
              "  'article_url': 'https://n.news.naver.com/mnews/article/138/0002131090?sid=105'},\n",
              " {'title': '[D데이] 2011.08.17. 통신3사 첫 주파수 경매',\n",
              "  'article_url': 'https://n.news.naver.com/mnews/article/138/0002130846?sid=105'},\n",
              " {'title': \"[D데이] 1999.8.1 그때 그 시절 추억 창고 '싸이월드'\",\n",
              "  'article_url': 'https://n.news.naver.com/mnews/article/138/0002129818?sid=105'},\n",
              " {'title': '[D데이] 2021.07.31 LG전자, 휴대폰 사업 철수',\n",
              "  'article_url': 'https://n.news.naver.com/mnews/article/138/0002129772?sid=105'},\n",
              " {'title': '[코인브리핑] 獨 PPI 사상 최고치에 가상자산 시장 급락세',\n",
              "  'article_url': 'https://n.news.naver.com/mnews/article/014/0004885851?sid=105'},\n",
              " {'title': '[코인브리핑] 비트코인 사흘 연속 하락..CME 이더 옵션 상장계획',\n",
              "  'article_url': 'https://n.news.naver.com/mnews/article/014/0004885694?sid=105'},\n",
              " {'title': \"박스권에 갇힌 비트코인…캐나다선 '코인 매수 제한' [코인브리핑]\",\n",
              "  'article_url': 'https://n.news.naver.com/mnews/article/014/0004885402?sid=105'},\n",
              " {'title': '美 \"추가 금리 인상\" 예고에…비트코인도 약세 [코인브리핑]',\n",
              "  'article_url': 'https://n.news.naver.com/mnews/article/014/0004885009?sid=105'}]"
            ]
          },
          "metadata": {},
          "execution_count": 20
        }
      ]
    },
    {
      "cell_type": "code",
      "source": [],
      "metadata": {
        "id": "A-a-JMKQBm27"
      },
      "execution_count": null,
      "outputs": []
    }
  ]
}